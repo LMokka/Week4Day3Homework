{
 "cells": [
  {
   "cell_type": "markdown",
   "id": "7447fb06",
   "metadata": {},
   "source": [
    "Exercise #1\n",
    "Reverse the list below in-place using an in-place algorithm.\n",
    "For extra credit: Reverse the strings at the same time."
   ]
  },
  {
   "cell_type": "code",
   "execution_count": 1,
   "id": "091b4acb",
   "metadata": {},
   "outputs": [
    {
     "name": "stdout",
     "output_type": "stream",
     "text": [
      "None\n"
     ]
    }
   ],
   "source": [
    "#why doesn't this work\n",
    "#why are my jupyter notebooks not trusted\n",
    "\n",
    "words = ['this' , 'is', 'a', 'sentence', '.']\n",
    "words = words.reverse()\n",
    "print(words)"
   ]
  },
  {
   "cell_type": "code",
   "execution_count": 2,
   "id": "57e7ee6b",
   "metadata": {},
   "outputs": [
    {
     "name": "stdout",
     "output_type": "stream",
     "text": [
      "['this', 'is', 'a', 'sentence', '.']\n",
      "['.', 'ecnetnes', 'a', 'si', 'siht']\n"
     ]
    }
   ],
   "source": [
    "#Why does this work [::-1] why do we need two : \n",
    "words = ['this' , 'is', 'a', 'sentence', '.']\n",
    "#['.', 'ecnetnes', 'o', 'si', 'sint']\n",
    "\n",
    "def reverse(words, a, b, c, d, e):\n",
    "    words[a],words[b],words[c],words[d],words[e] = words[e][::-1],words[d][::-1],words[c][::-1],words[b][::-1],words[a][::-1]\n",
    "    return words\n",
    "\n",
    "print(words)\n",
    "print(reverse(words,0,1,2,3,4))\n"
   ]
  },
  {
   "cell_type": "markdown",
   "id": "79503176",
   "metadata": {},
   "source": [
    "Exercise #2\n",
    "Create a function that counts how many distinct words are in the string below, then outputs a dictionary with the words as the key and the value as the amount of times that word appears in the string.\n",
    "\n",
    "Example Output:{'in': 1, 'computing': 1, 'a': 5, ...}"
   ]
  },
  {
   "cell_type": "code",
   "execution_count": 7,
   "id": "ca00ae1e",
   "metadata": {},
   "outputs": [
    {
     "name": "stdout",
     "output_type": "stream",
     "text": [
      "Counter({'a': 4, 'hash': 4, 'an': 3, 'table': 2, 'map': 2, 'data': 2, 'structure': 2, 'which': 2, 'array': 2, 'can': 2, 'to': 2, 'In': 1, 'computing,': 1, 'is': 1, 'implements': 1, 'associative': 1, 'abstract': 1, 'type,': 1, 'that': 1, 'keys': 1, 'values.': 1, 'A': 1, 'uses': 1, 'function': 1, 'compute': 1, 'index': 1, 'into': 1, 'of': 1, 'buckets': 1, 'or': 1, 'slots': 1, 'from': 1, 'the': 1, 'desired': 1, 'value': 1, 'be': 1, 'found': 1})\n"
     ]
    }
   ],
   "source": [
    "a_text = 'In computing, a hash table hash map is a data structure which implements an associative array abstract data type, a structure that can map keys to values. A hash table uses a hash function to compute an index into an array of buckets or slots from which the desired value can be found'\n",
    "a_text = a_text.split()\n",
    "#print(a_text)\n",
    "\n",
    "from collections import Counter\n",
    "#print(Counter(a_text).keys())\n",
    "#print(Counter(a_text).values())\n",
    "print(Counter(a_text))"
   ]
  },
  {
   "cell_type": "markdown",
   "id": "94f003b3",
   "metadata": {},
   "source": [
    "Exercise #3\n",
    "Write a function implementing a Linear Search Algorithm. A linear search is a method for finding an element within a list. It sequentially checks each element of the list until a match is found or the whole list has been searched. If you do not find a match, return -1"
   ]
  },
  {
   "cell_type": "code",
   "execution_count": 21,
   "id": "700b5eb7",
   "metadata": {},
   "outputs": [
    {
     "data": {
      "text/plain": [
       "'The 70 value is listed in index 3'"
      ]
     },
     "execution_count": 21,
     "metadata": {},
     "output_type": "execute_result"
    }
   ],
   "source": [
    "nums_list = [10,23,45,70,11,15]\n",
    "target = 70 #The index for 70 is 3\n",
    "\n",
    "def search(nums_list, target):\n",
    "    for i in range(len(nums_list)):\n",
    "        if nums_list[i] == target:\n",
    "            return(f\"The {target} value is listed in index {i}\")   \n",
    "    return (f\"The {target} value is not present -1\")\n",
    "\n",
    "search(nums_list, target)\n",
    "    \n",
    "    # If number is not present return -1"
   ]
  }
 ],
 "metadata": {
  "kernelspec": {
   "display_name": "Python 3",
   "language": "python",
   "name": "python3"
  },
  "language_info": {
   "codemirror_mode": {
    "name": "ipython",
    "version": 3
   },
   "file_extension": ".py",
   "mimetype": "text/x-python",
   "name": "python",
   "nbconvert_exporter": "python",
   "pygments_lexer": "ipython3",
   "version": "3.8.8"
  }
 },
 "nbformat": 4,
 "nbformat_minor": 5
}
